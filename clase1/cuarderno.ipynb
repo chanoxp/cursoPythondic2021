{
 "cells": [
  {
   "cell_type": "markdown",
   "id": "0310914c",
   "metadata": {},
   "source": [
    "# Titulo = Cuaderno"
   ]
  },
  {
   "cell_type": "code",
   "execution_count": 2,
   "id": "759bbf22",
   "metadata": {},
   "outputs": [
    {
     "name": "stdout",
     "output_type": "stream",
     "text": [
      " El volumen de la unidad D es Datos\n",
      " El n£mero de serie del volumen es: A005-B680\n",
      "\n",
      " Directorio de D:\\SEBASTIAN\\curso_python\\virtual_env\\clase1\n",
      "\n",
      "30/11/2021  09:47    <DIR>          .\n",
      "30/11/2021  09:47    <DIR>          ..\n",
      "30/11/2021  09:47    <DIR>          .ipynb_checkpoints\n",
      "30/11/2021  08:59    <DIR>          build\n",
      "30/11/2021  08:59    <DIR>          dist\n",
      "29/11/2021  12:16               127 hola.py\n",
      "29/11/2021  12:26             1.161 hola.spec\n",
      "30/11/2021  09:47                72 Untitled.ipynb\n",
      "30/11/2021  08:59    <DIR>          __pycache__\n",
      "               3 archivos          1.360 bytes\n",
      "               6 dirs  409.281.413.120 bytes libres\n"
     ]
    }
   ],
   "source": [
    "!dir"
   ]
  },
  {
   "cell_type": "code",
   "execution_count": 12,
   "id": "568131dd",
   "metadata": {},
   "outputs": [
    {
     "ename": "ModuleNotFoundError",
     "evalue": "No module named 'pandas'",
     "output_type": "error",
     "traceback": [
      "\u001b[1;31m---------------------------------------------------------------------------\u001b[0m",
      "\u001b[1;31mModuleNotFoundError\u001b[0m                       Traceback (most recent call last)",
      "\u001b[1;32m~\\AppData\\Local\\Temp/ipykernel_18804/4080736814.py\u001b[0m in \u001b[0;36m<module>\u001b[1;34m\u001b[0m\n\u001b[1;32m----> 1\u001b[1;33m \u001b[1;32mimport\u001b[0m \u001b[0mpandas\u001b[0m \u001b[1;32mas\u001b[0m \u001b[0mpd\u001b[0m\u001b[1;33m\u001b[0m\u001b[1;33m\u001b[0m\u001b[0m\n\u001b[0m",
      "\u001b[1;31mModuleNotFoundError\u001b[0m: No module named 'pandas'"
     ]
    }
   ],
   "source": [
    "import pandas as pd"
   ]
  },
  {
   "cell_type": "markdown",
   "id": "06511719",
   "metadata": {},
   "source": [
    "- Escribir texto"
   ]
  },
  {
   "cell_type": "code",
   "execution_count": 22,
   "id": "1272ca51",
   "metadata": {},
   "outputs": [
    {
     "name": "stdout",
     "output_type": "stream",
     "text": [
      " El volumen de la unidad D es Datos\n",
      " El n£mero de serie del volumen es: A005-B680\n",
      "\n",
      " Directorio de D:\\SEBASTIAN\\curso_python\\virtual_env\\clase1\n",
      "\n",
      "30/11/2021  10:07    <DIR>          .\n",
      "30/11/2021  10:07    <DIR>          ..\n",
      "30/11/2021  09:51    <DIR>          .ipynb_checkpoints\n",
      "30/11/2021  08:59    <DIR>          __pycache__\n",
      "30/11/2021  08:59    <DIR>          build\n",
      "30/11/2021  10:07             2.988 cuarderno.ipynb\n",
      "30/11/2021  08:59    <DIR>          dist\n",
      "29/11/2021  12:16               127 hola.py\n",
      "29/11/2021  12:26             1.161 hola.spec\n",
      "               3 archivos          4.276 bytes\n",
      "               6 dirs  409.281.404.928 bytes libres\n"
     ]
    }
   ],
   "source": [
    "ls"
   ]
  }
 ],
 "metadata": {
  "kernelspec": {
   "display_name": "Python 3 (ipykernel)",
   "language": "python",
   "name": "python3"
  },
  "language_info": {
   "codemirror_mode": {
    "name": "ipython",
    "version": 3
   },
   "file_extension": ".py",
   "mimetype": "text/x-python",
   "name": "python",
   "nbconvert_exporter": "python",
   "pygments_lexer": "ipython3",
   "version": "3.10.0"
  }
 },
 "nbformat": 4,
 "nbformat_minor": 5
}
